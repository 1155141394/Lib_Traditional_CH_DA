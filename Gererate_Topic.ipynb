{
 "cells": [
  {
   "cell_type": "code",
   "execution_count": 5,
   "id": "6cb12b8b-27f6-4379-8597-d39093640914",
   "metadata": {
    "collapsed": true,
    "jupyter": {
     "outputs_hidden": true
    },
    "tags": []
   },
   "outputs": [
    {
     "name": "stdout",
     "output_type": "stream",
     "text": [
      "Requirement already satisfied: ckiptagger in c:\\users\\taoxu\\anaconda3\\lib\\site-packages (0.2.1)\n",
      "Collecting hdbscan\n",
      "  Using cached hdbscan-0.8.28.tar.gz (5.2 MB)\n",
      "  Installing build dependencies: started\n",
      "  Installing build dependencies: finished with status 'done'\n",
      "  Getting requirements to build wheel: started\n",
      "  Getting requirements to build wheel: finished with status 'done'\n",
      "  Preparing metadata (pyproject.toml): started\n",
      "  Preparing metadata (pyproject.toml): finished with status 'done'\n",
      "Requirement already satisfied: joblib>=1.0 in c:\\users\\taoxu\\anaconda3\\lib\\site-packages (from hdbscan) (1.1.0)\n",
      "Requirement already satisfied: numpy>=1.20 in c:\\users\\taoxu\\anaconda3\\lib\\site-packages (from hdbscan) (1.21.5)\n",
      "Requirement already satisfied: cython>=0.27 in c:\\users\\taoxu\\anaconda3\\lib\\site-packages (from hdbscan) (0.29.32)\n",
      "Requirement already satisfied: scipy>=1.0 in c:\\users\\taoxu\\anaconda3\\lib\\site-packages (from hdbscan) (1.9.1)\n",
      "Requirement already satisfied: scikit-learn>=0.20 in c:\\users\\taoxu\\anaconda3\\lib\\site-packages (from hdbscan) (1.0.2)\n",
      "Requirement already satisfied: threadpoolctl>=2.0.0 in c:\\users\\taoxu\\anaconda3\\lib\\site-packages (from scikit-learn>=0.20->hdbscan) (2.2.0)\n",
      "Building wheels for collected packages: hdbscan\n",
      "  Building wheel for hdbscan (pyproject.toml): started\n",
      "  Building wheel for hdbscan (pyproject.toml): finished with status 'done'\n",
      "  Created wheel for hdbscan: filename=hdbscan-0.8.28-cp39-cp39-win_amd64.whl size=607537 sha256=65a0e6d414354cc389a16cd668925f5cd073d531658b5ea46a4ec153900607fc\n",
      "  Stored in directory: c:\\users\\taoxu\\appdata\\local\\pip\\cache\\wheels\\97\\2d\\1e\\d9907e8f806ee949f9effc41004d7f32e862f6f67d9157812d\n",
      "Successfully built hdbscan\n",
      "Installing collected packages: hdbscan\n",
      "Successfully installed hdbscan-0.8.28\n",
      "Collecting bertopic\n",
      "  Using cached bertopic-0.12.0-py2.py3-none-any.whl (90 kB)\n",
      "Requirement already satisfied: pandas>=1.1.5 in c:\\users\\taoxu\\anaconda3\\lib\\site-packages (from bertopic) (1.4.4)\n",
      "Requirement already satisfied: numpy>=1.20.0 in c:\\users\\taoxu\\anaconda3\\lib\\site-packages (from bertopic) (1.21.5)\n",
      "Requirement already satisfied: hdbscan>=0.8.28 in c:\\users\\taoxu\\anaconda3\\lib\\site-packages (from bertopic) (0.8.28)\n",
      "Requirement already satisfied: scikit-learn>=0.22.2.post1 in c:\\users\\taoxu\\anaconda3\\lib\\site-packages (from bertopic) (1.0.2)\n",
      "Collecting sentence-transformers>=0.4.1\n",
      "  Using cached sentence_transformers-2.2.2-py3-none-any.whl\n",
      "Requirement already satisfied: tqdm>=4.41.1 in c:\\users\\taoxu\\anaconda3\\lib\\site-packages (from bertopic) (4.64.1)\n",
      "Collecting pyyaml<6.0\n",
      "  Using cached PyYAML-5.4.1-cp39-cp39-win_amd64.whl (213 kB)\n",
      "Requirement already satisfied: plotly>=4.7.0 in c:\\users\\taoxu\\anaconda3\\lib\\site-packages (from bertopic) (5.9.0)\n",
      "Collecting umap-learn>=0.5.0\n",
      "  Using cached umap_learn-0.5.3-py3-none-any.whl\n",
      "Requirement already satisfied: scipy>=1.0 in c:\\users\\taoxu\\anaconda3\\lib\\site-packages (from hdbscan>=0.8.28->bertopic) (1.9.1)\n",
      "Requirement already satisfied: joblib>=1.0 in c:\\users\\taoxu\\anaconda3\\lib\\site-packages (from hdbscan>=0.8.28->bertopic) (1.1.0)\n",
      "Requirement already satisfied: cython>=0.27 in c:\\users\\taoxu\\anaconda3\\lib\\site-packages (from hdbscan>=0.8.28->bertopic) (0.29.32)\n",
      "Requirement already satisfied: pytz>=2020.1 in c:\\users\\taoxu\\anaconda3\\lib\\site-packages (from pandas>=1.1.5->bertopic) (2022.1)\n",
      "Requirement already satisfied: python-dateutil>=2.8.1 in c:\\users\\taoxu\\anaconda3\\lib\\site-packages (from pandas>=1.1.5->bertopic) (2.8.2)\n",
      "Requirement already satisfied: tenacity>=6.2.0 in c:\\users\\taoxu\\anaconda3\\lib\\site-packages (from plotly>=4.7.0->bertopic) (8.0.1)\n",
      "Requirement already satisfied: threadpoolctl>=2.0.0 in c:\\users\\taoxu\\anaconda3\\lib\\site-packages (from scikit-learn>=0.22.2.post1->bertopic) (2.2.0)\n",
      "Collecting transformers<5.0.0,>=4.6.0\n",
      "  Using cached transformers-4.23.1-py3-none-any.whl (5.3 MB)\n",
      "Requirement already satisfied: nltk in c:\\users\\taoxu\\anaconda3\\lib\\site-packages (from sentence-transformers>=0.4.1->bertopic) (3.7)\n",
      "Collecting huggingface-hub>=0.4.0\n",
      "  Using cached huggingface_hub-0.10.1-py3-none-any.whl (163 kB)\n",
      "Collecting sentencepiece\n",
      "  Using cached sentencepiece-0.1.97-cp39-cp39-win_amd64.whl (1.1 MB)\n",
      "Collecting torch>=1.6.0\n",
      "  Using cached torch-1.12.1-cp39-cp39-win_amd64.whl (161.8 MB)\n",
      "Collecting torchvision\n",
      "  Using cached torchvision-0.13.1-cp39-cp39-win_amd64.whl (1.1 MB)\n",
      "Requirement already satisfied: colorama in c:\\users\\taoxu\\anaconda3\\lib\\site-packages (from tqdm>=4.41.1->bertopic) (0.4.5)\n",
      "Requirement already satisfied: numba>=0.49 in c:\\users\\taoxu\\anaconda3\\lib\\site-packages (from umap-learn>=0.5.0->bertopic) (0.55.1)\n",
      "Collecting pynndescent>=0.5\n",
      "  Using cached pynndescent-0.5.7-py3-none-any.whl\n",
      "Requirement already satisfied: typing-extensions>=3.7.4.3 in c:\\users\\taoxu\\anaconda3\\lib\\site-packages (from huggingface-hub>=0.4.0->sentence-transformers>=0.4.1->bertopic) (4.3.0)\n",
      "Requirement already satisfied: packaging>=20.9 in c:\\users\\taoxu\\anaconda3\\lib\\site-packages (from huggingface-hub>=0.4.0->sentence-transformers>=0.4.1->bertopic) (21.3)\n",
      "Requirement already satisfied: filelock in c:\\users\\taoxu\\anaconda3\\lib\\site-packages (from huggingface-hub>=0.4.0->sentence-transformers>=0.4.1->bertopic) (3.6.0)\n",
      "Requirement already satisfied: requests in c:\\users\\taoxu\\anaconda3\\lib\\site-packages (from huggingface-hub>=0.4.0->sentence-transformers>=0.4.1->bertopic) (2.28.1)\n",
      "Requirement already satisfied: llvmlite<0.39,>=0.38.0rc1 in c:\\users\\taoxu\\anaconda3\\lib\\site-packages (from numba>=0.49->umap-learn>=0.5.0->bertopic) (0.38.0)\n",
      "Requirement already satisfied: setuptools in c:\\users\\taoxu\\anaconda3\\lib\\site-packages (from numba>=0.49->umap-learn>=0.5.0->bertopic) (63.4.1)\n",
      "Requirement already satisfied: six>=1.5 in c:\\users\\taoxu\\anaconda3\\lib\\site-packages (from python-dateutil>=2.8.1->pandas>=1.1.5->bertopic) (1.16.0)\n",
      "Collecting tokenizers!=0.11.3,<0.14,>=0.11.1\n",
      "  Using cached tokenizers-0.13.1-cp39-cp39-win_amd64.whl (3.3 MB)\n",
      "Requirement already satisfied: regex!=2019.12.17 in c:\\users\\taoxu\\anaconda3\\lib\\site-packages (from transformers<5.0.0,>=4.6.0->sentence-transformers>=0.4.1->bertopic) (2022.7.9)\n",
      "Requirement already satisfied: click in c:\\users\\taoxu\\anaconda3\\lib\\site-packages (from nltk->sentence-transformers>=0.4.1->bertopic) (8.0.4)\n",
      "Requirement already satisfied: pillow!=8.3.*,>=5.3.0 in c:\\users\\taoxu\\anaconda3\\lib\\site-packages (from torchvision->sentence-transformers>=0.4.1->bertopic) (9.2.0)\n",
      "Requirement already satisfied: pyparsing!=3.0.5,>=2.0.2 in c:\\users\\taoxu\\anaconda3\\lib\\site-packages (from packaging>=20.9->huggingface-hub>=0.4.0->sentence-transformers>=0.4.1->bertopic) (3.0.9)\n",
      "Requirement already satisfied: idna<4,>=2.5 in c:\\users\\taoxu\\anaconda3\\lib\\site-packages (from requests->huggingface-hub>=0.4.0->sentence-transformers>=0.4.1->bertopic) (3.3)\n",
      "Requirement already satisfied: charset-normalizer<3,>=2 in c:\\users\\taoxu\\anaconda3\\lib\\site-packages (from requests->huggingface-hub>=0.4.0->sentence-transformers>=0.4.1->bertopic) (2.0.4)\n",
      "Requirement already satisfied: urllib3<1.27,>=1.21.1 in c:\\users\\taoxu\\anaconda3\\lib\\site-packages (from requests->huggingface-hub>=0.4.0->sentence-transformers>=0.4.1->bertopic) (1.26.11)\n",
      "Requirement already satisfied: certifi>=2017.4.17 in c:\\users\\taoxu\\anaconda3\\lib\\site-packages (from requests->huggingface-hub>=0.4.0->sentence-transformers>=0.4.1->bertopic) (2022.9.14)\n",
      "Installing collected packages: tokenizers, sentencepiece, torch, pyyaml, torchvision, huggingface-hub, transformers, pynndescent, umap-learn, sentence-transformers, bertopic\n",
      "  Attempting uninstall: pyyaml\n",
      "    Found existing installation: PyYAML 6.0\n",
      "    Uninstalling PyYAML-6.0:\n",
      "      Successfully uninstalled PyYAML-6.0\n",
      "Successfully installed bertopic-0.12.0 huggingface-hub-0.10.1 pynndescent-0.5.7 pyyaml-5.4.1 sentence-transformers-2.2.2 sentencepiece-0.1.97 tokenizers-0.13.1 torch-1.12.1 torchvision-0.13.1 transformers-4.23.1 umap-learn-0.5.3\n"
     ]
    },
    {
     "name": "stderr",
     "output_type": "stream",
     "text": [
      "ERROR: pip's dependency resolver does not currently take into account all the packages that are installed. This behaviour is the source of the following dependency conflicts.\n",
      "conda-repo-cli 1.0.20 requires clyent==1.2.1, but you have clyent 1.2.2 which is incompatible.\n",
      "conda-repo-cli 1.0.20 requires nbformat==5.4.0, but you have nbformat 5.5.0 which is incompatible.\n",
      "conda-repo-cli 1.0.20 requires PyYAML==6.0, but you have pyyaml 5.4.1 which is incompatible.\n"
     ]
    }
   ],
   "source": [
    "!pip install ckiptagger\n",
    "!pip install hdbscan\n",
    "!pip install bertopic"
   ]
  },
  {
   "cell_type": "code",
   "execution_count": null,
   "id": "a6187f65-6ad1-41f5-8d9a-a73948a1efe8",
   "metadata": {
    "tags": []
   },
   "outputs": [
    {
     "name": "stdout",
     "output_type": "stream",
     "text": [
      "['\"', '日', '九月', '十年', '○五九一路', '一號', '三樓', '電話鐘', '路餐', '臺灣', '電話', '.', '.', '三四叁式化', '天文臺', '本報', '今日', '復刊', ',', '隨', '報', '附送', '書紙', '精印', '韓國', '地圖', '一', '大', '張', ',', '不', '另', '收費', ',', '請', '讀者', '注意']\n",
      "\"日九月十年○五九一路一號三樓電話鐘路餐臺灣電話..三四叁式化天文臺本報今日復刊,隨報附送書紙精印韓國地圖一大張,不另收費,請讀者注意\n"
     ]
    },
    {
     "data": {
      "application/vnd.jupyter.widget-view+json": {
       "model_id": "929fbc9a0c2143bcb812c082e10967ec",
       "version_major": 2,
       "version_minor": 0
      },
      "text/plain": [
       "Batches:   0%|          | 0/318 [00:00<?, ?it/s]"
      ]
     },
     "metadata": {},
     "output_type": "display_data"
    },
    {
     "name": "stderr",
     "output_type": "stream",
     "text": [
      "2022-10-26 11:17:30,368 - BERTopic - Transformed documents to Embeddings\n",
      "2022-10-26 11:17:35,987 - BERTopic - Reduced dimensionality\n",
      "2022-10-26 11:17:44,931 - BERTopic - Clustered reduced embeddings\n",
      "2022-10-26 11:17:47,269 - BERTopic - Reduced number of topics from 137 to 11\n"
     ]
    },
    {
     "name": "stdout",
     "output_type": "stream",
     "text": [
      "    Topic  Count             Name\n",
      "0      -1   6740   -1_中共_美國_台灣_中國\n",
      "1       0   1855    0_中共_聯軍_軍事_美國\n",
      "2       1    269    1_山水_人頭_橋頭_天橋\n",
      "3       2    254   2_電話_公司_二十年_中共\n",
      "4       3    217    3_公司_輪船_電話_香港\n",
      "5       4    175    4_精神_心理_人心_變態\n",
      "6       5    156    5_上海_人海_海藏_戰術\n",
      "7       6    155   6_作風_秋風_風流_沁園春\n",
      "8       7    123    7_汽車_政府_日本_新聞\n",
      "9       8    105  8_司令_總司令_軍事_司令員\n",
      "10      9    101    9_女人_野獸_太太_男子\n",
      "['\"', '二', '期', '星臺', ' 文', ' ', '天下', '非', '作', '共', '貨膨', ',', '如', '擊速', '入時軍', ',', '尤以', ',', '勢宾', '否', ',', '尋邏', '約', '噸', '山月', '十', '頭', ',', ' ', '請', '一', '雖', '只', '工足', ',', '所', '戰', '軍幣', '響能國', ',', '戰海', '間', '能', '胥川争 ', '之', '不能', '當頭', '一', ',', '之', '底', '-', '堡聖', '已', '變於', ',', '有理爲長', '亦', '以', '不', ',', '否家', '不', '速', '中', ',', '如爲兩取', ' ', '下', '敵', '而', '於']\n",
      "\"二期星臺 文 天下非作共貨膨,如擊速入時軍,尤以,勢宾否,尋邏約噸山月十頭, 請一雖只工足,所戰軍幣響能國,戰海間能胥川争 之不能當頭一,之底-堡聖已變於,有理爲長亦以不,否家不速中,如爲兩取 下敵而於\n"
     ]
    },
    {
     "data": {
      "application/vnd.jupyter.widget-view+json": {
       "model_id": "6b69c06398f3428982a324ff0335f515",
       "version_major": 2,
       "version_minor": 0
      },
      "text/plain": [
       "Batches:   0%|          | 0/1371 [00:00<?, ?it/s]"
      ]
     },
     "metadata": {},
     "output_type": "display_data"
    },
    {
     "name": "stderr",
     "output_type": "stream",
     "text": [
      "2022-10-26 11:50:28,410 - BERTopic - Transformed documents to Embeddings\n",
      "2022-10-26 11:50:49,592 - BERTopic - Reduced dimensionality\n",
      "2022-10-26 11:57:09,813 - BERTopic - Clustered reduced embeddings\n",
      "2022-10-26 11:57:18,805 - BERTopic - Reduced number of topics from 325 to 11\n"
     ]
    },
    {
     "name": "stdout",
     "output_type": "stream",
     "text": [
      "    Topic  Count             Name\n",
      "0      -1  29026   -1_美國_蘇聯_中共_日本\n",
      "1       0   8542    0_美國_軍事_聯軍_中共\n",
      "2       1   1765    1_美國_日本_蘇聯_電話\n",
      "3       2    867    2_公司_司長_美國_永號\n",
      "4       3    698    3_停火_談判_韓戰_蘇聯\n",
      "5       4    645    4_汽車_日本_中共_卡車\n",
      "6       5    478            5____\n",
      "7       6    473  6_上海_海南島_中共_北海道\n",
      "8       7    463    7_香港_大陸_生活_中國\n",
      "9       8    449    8_作風_風氣_傷風_風雨\n",
      "10      9    446  9_司令_總司令_公司_司令官\n",
      "['\"版', '一第', '(', '三', '期', '星', ')', '界', ' ', '是', '年聯爲', ',', '事能', ',', '段', ' 非美', ',', '主', '美安', '五二', '分座', '有', '合合', '也', '皆', '不一', ' ', '九', '執', '而', '氛', '何', '就', ' 九', '此', ' ', '兩', '年', '白之年', '析談', '權', '國國', ' ', '為', '有', '同', '九五', '是', '貿', ',', '天職', '五', '問', '黨', ',', '宮爆', '之', ',', '會', '威休特日', ' ', '相', '無', ' ', ',', '五', '因', ' ', '皆', '求告', ' ', '三', '題', ' 角', '既', '之', '發', '反而然', '內認', ',資會派', '本', ' ', '於', '二蘇年論', '從', ' ', '不', '家', '一', '年', ',', '逐爲手', ',', '之', '對世', ',爲', '經望', ',員', '每', '不', ':', '冗', '之', '邀', ',', '日會', '一', '長記', '請', '最', '新', '有', '一', '之', '者', '幾近', '聞', '大九', '討舉', '位乘戰', '五', '論行', '最', '聯', '聯世', '向', '並', '彈', '以', ' :◎', '無', '之爲', '自', '美', '高', '而', '大', ' 一之', '與', '最', '不', '對', ' ', '打陷', '落', ' ', '一', '至', '統國', '則', '動使', '非戰', ' 九利美安能蘇', ' ', '破', '於', '之', '月', '明', ' ', '之', '民', '一', '操世絶問', ' 五', '害國', '全', '不', '戰', ' ', '現', '以前', ' ', '新年', ' ', '年', '九', '於', '界', '對題', ' ', '二', '觀', '對', '之', '謂', '爭', '狀境', ',', '總共', '五美', '大年點', '於', '年一', ',', ',', '氣任', '統', '– ', '在', '和', '二國戰', '者', ',', '巴外', '大爾', '交', ' ', '日溫系', ' 加會', '·社', '二', '蔬果', ' ', '戰大無', '有', '年', '今', '也', '酥空', '此', '而', '富人', '高', '各', '幹', '記報', '策爾', '行力', '國利人', '及', '者', '截三 ', '高', '新', '二務', '利藜', '者', '記', '威權國', '各', '迄', '達引', ',', '一', ':', ' ', '主', '蘇戈', '— 戰爾巴', ',', '于八分', '將', ',', '舊', '還', '踏', '的', '是', '起', '但', '向', ' 要', '聯爾蘇法', '後', '達黎', '英德南路', '社會', '談座', '行舉', '會戰', '美誇', '歐争國', '張洲美發', '等', '地', '維國言地', ' 爾銷', '駐', ' 特國', '國斯', '至', '主莫戰', '派格']\n",
      "\"版一第(三期星)界 是年聯爲,事能,段 非美,主美安五二分座有合合也皆不一 九執而氛何就 九此 兩年白之年析談權國國 為有同九五是貿,天職五問黨,宮爆之,會威休特日 相無 ,五因 皆求告 三題 角既之發反而然內認,資會派本 於二蘇年論從 不家一年,逐爲手,之對世,爲經望,員每不:冗之邀,日會一長記請最新有一之者幾近聞大九討舉位乘戰五論行最聯聯世向並彈以 :◎無之爲自美高而大 一之與最不對 打陷落 一至統國則動使非戰 九利美安能蘇 破於之月明 之民一操世絶問 五害國全不戰 現以前 新年 年九於界對題 二觀對之謂爭狀境,總共五美大年點於年一,,氣任統– 在和二國戰者,巴外大爾交 日溫系 加會·社二蔬果 戰大無有年今也酥空此而富人高各幹記報策爾行力國利人及者截三 高新二務利藜者記威權國各迄達引,一: 主蘇戈— 戰爾巴,于八分將,舊還踏的是起但向 要聯爾蘇法後達黎英德南路社會談座行舉會戰美誇歐争國張洲美發等地維國言地 爾銷駐 特國國斯至主莫戰派格\n"
     ]
    },
    {
     "data": {
      "application/vnd.jupyter.widget-view+json": {
       "model_id": "98decdc614ad43b4b74e91e239fa77ac",
       "version_major": 2,
       "version_minor": 0
      },
      "text/plain": [
       "Batches:   0%|          | 0/1402 [00:00<?, ?it/s]"
      ]
     },
     "metadata": {},
     "output_type": "display_data"
    },
    {
     "name": "stderr",
     "output_type": "stream",
     "text": [
      "2022-10-26 12:18:57,912 - BERTopic - Transformed documents to Embeddings\n",
      "2022-10-26 12:19:21,955 - BERTopic - Reduced dimensionality\n",
      "2022-10-26 12:26:13,545 - BERTopic - Clustered reduced embeddings\n",
      "2022-10-26 12:26:22,524 - BERTopic - Reduced number of topics from 323 to 11\n"
     ]
    },
    {
     "name": "stdout",
     "output_type": "stream",
     "text": [
      "    Topic  Count             Name\n",
      "0      -1  30353   -1_美國_中共_日本_中國\n",
      "1       0   8226    0_軍事_中共_美國_台灣\n",
      "2       1   1910    1_香港_電話_美國_日本\n",
      "3       2    750    2_汽車_火車_車站_車子\n",
      "4       3    742    3_公司_永號_港售_三號\n",
      "5       4    576    4_人士_博士_士兵_蘇聯\n",
      "6       5    489    5_作風_風氣_風景_風度\n",
      "7       6    468  6_司令_總司令_海軍_司令部\n",
      "8       7    459            7____\n",
      "9       8    441    8_香港_中共_台灣_日本\n",
      "10      9    421  9_金福民_美金_舊金山_黃金\n",
      "['\"', '日', '二月', '一年', '二十四', '國', '民華', '中島', '文', ' 天', '(', '五', '期', '星', ')', '版', '一第', '香港', '香港樓', ' ', '上海', '印書館', '發行', '韻書峥囉', '對', '囧衛', '大道郸', '三十伍號', '三樓', '天文臺', '本報啓', '事', '【', '本報', '中區', '臨時', '辦事處', '自', '即日', '起', '已', '由', '思豪', '酒店', '五樓', '五〇', '遷移至', '本', '港', '皇后', '大道', '中', '三十三', '號', '洛興行', '二樓', '一壹一室', '照常', '辦理', '一切', '業務', '各界', '惠投', '幽件', '及', '業務', ' ', '賜請', '移玉', '新址', '按', '洽爲禧', '天文台', '報社', '謹啓', ' ', '中華民國', '四十年', '元月', '一日', '邱吉爾', '·', '艾森豪·', '將', '得', '何', '協議', '共黨', '以', '總動員', '對', '不', '動員', '半動員', '! ', '陳孝威', '邱吉爾', '錦囊', '中', '新', '對', '策究', '是', '什麼']\n",
      "\"日二月一年二十四國民華中島文 天(五期星)版一第香港香港樓 上海印書館發行韻書峥囉對囧衛大道郸三十伍號三樓天文臺本報啓事【本報中區臨時辦事處自即日起已由思豪酒店五樓五〇遷移至本港皇后大道中三十三號洛興行二樓一壹一室照常辦理一切業務各界惠投幽件及業務 賜請移玉新址按洽爲禧天文台報社謹啓 中華民國四十年元月一日邱吉爾·艾森豪·將得何協議共黨以總動員對不動員半動員! 陳孝威邱吉爾錦囊中新對策究是什麼\n"
     ]
    },
    {
     "data": {
      "application/vnd.jupyter.widget-view+json": {
       "model_id": "04b07fa0b61b41449229a39552470d6b",
       "version_major": 2,
       "version_minor": 0
      },
      "text/plain": [
       "Batches:   0%|          | 0/1695 [00:00<?, ?it/s]"
      ]
     },
     "metadata": {},
     "output_type": "display_data"
    },
    {
     "name": "stderr",
     "output_type": "stream",
     "text": [
      "2022-10-26 12:49:21,031 - BERTopic - Transformed documents to Embeddings\n",
      "2022-10-26 12:49:53,085 - BERTopic - Reduced dimensionality\n",
      "2022-10-26 13:00:58,688 - BERTopic - Clustered reduced embeddings\n",
      "2022-10-26 13:01:09,336 - BERTopic - Reduced number of topics from 387 to 11\n"
     ]
    },
    {
     "name": "stdout",
     "output_type": "stream",
     "text": [
      "    Topic  Count            Name\n",
      "0      -1  38992  -1_美國_中共_政府_中國\n",
      "1       0   9841   0_軍事_美國_中共_日本\n",
      "2       1   1100  1_公司_二十四_民華_電話\n",
      "3       2    592   2_作風_風氣_傷風_風景\n",
      "4       3    582   3_清潔_皮膚_水準_山水\n",
      "5       4    570  4_香港_藥行_印尼區_出品\n",
      "6       5    557  5_澳門_華安_利生_參羊丸\n",
      "7       6    517   6_人士_博士_會議_反共\n",
      "8       7    500   7_汽車_火車_車站_電車\n",
      "9       8    493  8_司令_總司令_海軍_空軍\n",
      "10      9    483           9____\n",
      "['\"', '去', '濕服', '可', '免', '徵', '病', ',', '朋', '後', '更', '能', '清素', '里活', ',', '消滯', '除', '痰', ',', '能夠', '得到', '大行其道']\n",
      "\"去濕服可免徵病,朋後更能清素里活,消滯除痰,能夠得到大行其道\n"
     ]
    },
    {
     "data": {
      "application/vnd.jupyter.widget-view+json": {
       "model_id": "bc9f03762f7c4c55b1583d33f16f70de",
       "version_major": 2,
       "version_minor": 0
      },
      "text/plain": [
       "Batches:   0%|          | 0/1918 [00:00<?, ?it/s]"
      ]
     },
     "metadata": {},
     "output_type": "display_data"
    },
    {
     "name": "stderr",
     "output_type": "stream",
     "text": [
      "2022-10-26 13:24:33,990 - BERTopic - Transformed documents to Embeddings\n",
      "2022-10-26 13:25:08,725 - BERTopic - Reduced dimensionality\n",
      "2022-10-26 13:46:53,777 - BERTopic - Clustered reduced embeddings\n",
      "2022-10-26 13:47:06,272 - BERTopic - Reduced number of topics from 461 to 11\n"
     ]
    },
    {
     "name": "stdout",
     "output_type": "stream",
     "text": [
      "    Topic  Count            Name\n",
      "0      -1  53612  -1_美國_中共_中國_會議\n",
      "1       0   1065  0_美國_三十四_中共_三號\n",
      "2       1    904   1_美國_英國_中共_會議\n",
      "3       2    875   2_作風_風氣_風景_風度\n",
      "4       3    840  3_人士_法朗士_博士_美國\n",
      "5       4    793   4_水災_水準_水利_中共\n",
      "6       5    705   5_政治_軍事_政府_政策\n",
      "7       6    668  6_花園_梅花_花樣_花生米\n",
      "8       7    653  7_香港_大道_二樓_洛興行\n",
      "9       8    633   8_汽車_火車_中共_車輛\n",
      "10      9    621   9_軍事_將軍_軍隊_共軍\n",
      "['\"', '臺文', '天臺', '文天刊', '特年', '新丰', '四十四', '國民華', '中特来', '新', '麻茶', '新年', '伊始', ',', '照例', '該', '說', '些', '迎新', '梁習', '的話', ',', '這裡', '我們', '且', '來', '談談', '今年', '的', '歲', '罷']\n",
      "\"臺文天臺文天刊特年新丰四十四國民華中特来新麻茶新年伊始,照例該說些迎新梁習的話,這裡我們且來談談今年的歲罷\n"
     ]
    },
    {
     "data": {
      "application/vnd.jupyter.widget-view+json": {
       "model_id": "301c409fc9ea40e088e2fb32e830efb1",
       "version_major": 2,
       "version_minor": 0
      },
      "text/plain": [
       "Batches:   0%|          | 0/1541 [00:00<?, ?it/s]"
      ]
     },
     "metadata": {},
     "output_type": "display_data"
    },
    {
     "name": "stderr",
     "output_type": "stream",
     "text": [
      "2022-10-26 14:07:52,677 - BERTopic - Transformed documents to Embeddings\n",
      "2022-10-26 14:08:12,903 - BERTopic - Reduced dimensionality\n",
      "2022-10-26 14:18:27,787 - BERTopic - Clustered reduced embeddings\n",
      "2022-10-26 14:18:38,357 - BERTopic - Reduced number of topics from 406 to 11\n"
     ]
    },
    {
     "name": "stdout",
     "output_type": "stream",
     "text": [
      "    Topic  Count            Name\n",
      "0      -1  42081  -1_美國_中共_中國_日本\n",
      "1       0   1581   0_香港_美國_中共_中國\n",
      "2       1   1101   1_公司_司長_香港_公務\n",
      "3       2    782   2_金人_金兵_兀朮_朝廷\n",
      "4       3    646   3_停火_美國_中共_談判\n",
      "5       4    542  4_汽車_火車_車站_中正路\n",
      "6       5    532   5_山水_谷水_水準_清水\n",
      "7       6    531  6_中國_國家_聯合國_國際\n",
      "8       7    514  7_東南亞_越南_南北_南渡\n",
      "9       8    501   8_胡風_作風_風景_集團\n",
      "10      9    490  9_重光_外相_鳩山_胡光應\n",
      "['\"Ⓡ', '躪鈉緻', '‐ ', '酌號', ' ', '·費眙', '釀拌', '轕月', '天文臺', '中國', '郵政', '白字', '第六', '  ', '五', '號', '執照', '登記', '爲', '第一', '類', '新聞', '紙類', '願', '兩', '黨', '賢豪', '批准', '長期', '援外', '欲', '向', '下', '一', '代', '有', '交代', '不能', '頭痛', '醫頭', '陳援外', '保持', '一', '年', '一', '算', '作', '風弊', '多', '利', '少長期', '援', '外爲', '出色', '當行', '之', '冷戰', '戰客', '與', '共產', '集團', '作', '鬥爭', '也', '可', ',', ' 哈伊', ',', '但', '其', '「', '百', '年', '反共', ' ', '結束', '越南', '、', '馬來亞', '戰鬥', '定', '共同', '限制', '軍事', '上', '多', '種', '黨', '侵界', '」', '概念', ',', '可', '謂', '爲戰', '物資', '之', '生產', '」', '者', ';', '作', '戰爭', '也', '可', ',', '是', '乃', '史無前例', '最', '困難', '最', '複雜', '最', '微妙', '之', '功課']\n",
      "\"Ⓡ躪鈉緻‐ 酌號 ·費眙釀拌轕月天文臺中國郵政白字第六  五號執照登記爲第一類新聞紙類願兩黨賢豪批准長期援外欲向下一代有交代不能頭痛醫頭陳援外保持一年一算作風弊多利少長期援外爲出色當行之冷戰戰客與共產集團作鬥爭也可, 哈伊,但其「百年反共 結束越南、馬來亞戰鬥定共同限制軍事上多種黨侵界」概念,可謂爲戰物資之生產」者;作戰爭也可,是乃史無前例最困難最複雜最微妙之功課\n"
     ]
    },
    {
     "data": {
      "application/vnd.jupyter.widget-view+json": {
       "model_id": "449839c0add14ad9a9d3f2414f72caa9",
       "version_major": 2,
       "version_minor": 0
      },
      "text/plain": [
       "Batches:   0%|          | 0/72 [00:00<?, ?it/s]"
      ]
     },
     "metadata": {},
     "output_type": "display_data"
    },
    {
     "name": "stderr",
     "output_type": "stream",
     "text": [
      "2022-10-26 14:19:56,482 - BERTopic - Transformed documents to Embeddings\n",
      "2022-10-26 14:20:04,328 - BERTopic - Reduced dimensionality\n",
      "2022-10-26 14:20:04,611 - BERTopic - Clustered reduced embeddings\n",
      "2022-10-26 14:20:05,384 - BERTopic - Reduced number of topics from 47 to 11\n"
     ]
    },
    {
     "name": "stdout",
     "output_type": "stream",
     "text": [
      "    Topic  Count                 Name\n",
      "0      -1   1485       -1_中共_世界_日本_蘇聯\n",
      "1       0    268        0_中共_軍事_空軍_聯軍\n",
      "2       1    167        1_國家_美國_英國_西方\n",
      "3       2     57  2_一九五二年_一九五四年_計劃_盧布\n",
      "4       3     56        3_精神_洛神_民族_主義\n",
      "5       4     50        4_政治_政府_政策_政權\n",
      "6       5     41        5_汽車_車站_整肅_烏龜\n",
      "7       6     40        6_克服_難關_等待_中國\n",
      "8       7     39        7_插花_藝術_櫻花_小姐\n",
      "9       8     38       8_香港_五十四_電話_報紙\n",
      "10      9     37      9_氣憤_豁然園_燃引擎_挽回\n",
      "['\"', '報', '台文', '天見得', '看', '就', '方地', '的', '僑華', '有', '要', '只', '****', '〇一〇', '號', '一六一', '號', '民國', '僑本報', '第三十五', '期', '迎', '葉', '外長', '返國', '合訂', '本', '天文', '高彙訂', '本', '年', '一', '、', '二两', '月份', '報紙', ',', '由', '一一一一', '期', '起', '至', '一一三九', '期', '止', ',', '合計', '二心', '十九', '期']\n",
      "\"報台文天見得看就方地的僑華有要只****〇一〇號一六一號民國僑本報第三十五期迎葉外長返國合訂本天文高彙訂本年一、二两月份報紙,由一一一一期起至一一三九期止,合計二心十九期\n"
     ]
    },
    {
     "data": {
      "application/vnd.jupyter.widget-view+json": {
       "model_id": "860e4efa68fc4550bcdb10cd828208e1",
       "version_major": 2,
       "version_minor": 0
      },
      "text/plain": [
       "Batches:   0%|          | 0/697 [00:00<?, ?it/s]"
      ]
     },
     "metadata": {},
     "output_type": "display_data"
    },
    {
     "name": "stderr",
     "output_type": "stream",
     "text": [
      "2022-10-26 14:28:03,096 - BERTopic - Transformed documents to Embeddings\n",
      "2022-10-26 14:28:13,574 - BERTopic - Reduced dimensionality\n",
      "2022-10-26 14:29:29,312 - BERTopic - Clustered reduced embeddings\n",
      "2022-10-26 14:29:34,292 - BERTopic - Reduced number of topics from 265 to 11\n"
     ]
    },
    {
     "name": "stdout",
     "output_type": "stream",
     "text": [
      "    Topic  Count              Name\n",
      "0      -1  17332    -1_中共_美國_國家_日本\n",
      "1       0   1946     0_軍事_將軍_美國_蘇俄\n",
      "2       1    430     1_整風_颶風_作風_風氣\n",
      "3       2    420    2_香港_六十四_地址_北台\n",
      "4       3    389     3_香港_製造_字樣_藥味\n",
      "5       4    381     4_公司_司法_日本_司機\n",
      "6       5    296     5_汽車_馬車_貪平_諸公\n",
      "7       6    295     6_火箭_火山_衛星_蘇聯\n",
      "8       7    286  7_人造衛星_衛星_星加坡_發明\n",
      "9       8    262   8_護士長_鳳姑娘_同志_人士\n",
      "10      9    253    9_美國_飛彈_中東_美國人\n",
      "['\"县', '二月', '七年', '八十四', '國民', '華中', '  ', '第四', '期', '〇', '- 號', '一六一', '號', '許', '專欄', '此', '種種', ',', '都', '是', '造成', '亂鳴', '現象', '的', '原因']\n",
      "\"县二月七年八十四國民華中  第四期〇- 號一六一號許專欄此種種,都是造成亂鳴現象的原因\n"
     ]
    },
    {
     "data": {
      "application/vnd.jupyter.widget-view+json": {
       "model_id": "9aa4c1f10ce742988bbbd6eb6edf1366",
       "version_major": 2,
       "version_minor": 0
      },
      "text/plain": [
       "Batches:   0%|          | 0/1007 [00:00<?, ?it/s]"
      ]
     },
     "metadata": {},
     "output_type": "display_data"
    },
    {
     "name": "stderr",
     "output_type": "stream",
     "text": [
      "2022-10-26 14:40:24,568 - BERTopic - Transformed documents to Embeddings\n",
      "2022-10-26 14:40:40,389 - BERTopic - Reduced dimensionality\n",
      "2022-10-26 14:44:33,298 - BERTopic - Clustered reduced embeddings\n",
      "2022-10-26 14:44:39,541 - BERTopic - Reduced number of topics from 307 to 11\n"
     ]
    },
    {
     "name": "stdout",
     "output_type": "stream",
     "text": [
      "    Topic  Count             Name\n",
      "0      -1  25360   -1_中共_美國_中國_政府\n",
      "1       0   2364    0_軍事_中共_美國_將軍\n",
      "2       1    721    1_公司_邵氏_永號_公務\n",
      "3       2    551    2_火箭_蘇聯_美國_月球\n",
      "4       3    546  3_美國_中共_赫魯歇夫_政策\n",
      "5       4    535  4_香港_代理_中正路_位元堂\n",
      "6       5    528    5_糧食_飲食_食物_食神\n",
      "7       6    455    6_水災_水準_金水_中共\n",
      "8       7    392    7_國家_中國_寮國_國際\n",
      "9       8    386    8_香港_小姐_大道_世界\n",
      "10      9    384    9_秀蘭_二龍_汽車_山本\n",
      "['\"', '日', '二月', '一年', '九十四', '國民華中', '  ', '(', '六', '期', '星', ')', '版', '一第', '帥', '眼鈉', '獗', ' ', '勛雞納書', '給', '織拧', '〇〇', '號', '銷證會', '登方', '一致', '的', '態度', ',', '過去', ' ', '穫', ',', '仍', '爲', '各', '國', '對', '蘇', '之', '如此', ',', '將來', '亦', '如此', ',', '一致']\n",
      "\"日二月一年九十四國民華中  (六期星)版一第帥眼鈉獗 勛雞納書給織拧〇〇號銷證會登方一致的態度,過去 穫,仍爲各國對蘇之如此,將來亦如此,一致\n"
     ]
    },
    {
     "data": {
      "application/vnd.jupyter.widget-view+json": {
       "model_id": "e1391b6cd6e64ef3a1d0d27182e7f9ce",
       "version_major": 2,
       "version_minor": 0
      },
      "text/plain": [
       "Batches:   0%|          | 0/1160 [00:00<?, ?it/s]"
      ]
     },
     "metadata": {},
     "output_type": "display_data"
    },
    {
     "name": "stderr",
     "output_type": "stream",
     "text": [
      "2022-10-26 14:59:06,648 - BERTopic - Transformed documents to Embeddings\n",
      "2022-10-26 14:59:22,853 - BERTopic - Reduced dimensionality\n",
      "2022-10-26 15:04:28,911 - BERTopic - Clustered reduced embeddings\n",
      "2022-10-26 15:04:36,621 - BERTopic - Reduced number of topics from 348 to 11\n"
     ]
    },
    {
     "name": "stdout",
     "output_type": "stream",
     "text": [
      "    Topic  Count            Name\n",
      "0      -1  29403  -1_美國_中共_日本_國家\n",
      "1       0   2519   0_軍事_美國_中共_裁軍\n",
      "2       1    927   1_公司_邵氏_香港_影片\n",
      "3       2    810   2_女人_男女_男人_主角\n",
      "4       3    747   3_代理_香港_越南_地址\n",
      "5       4    630   4_香港_影片_日本_大道\n",
      "6       5    571  5_二龍_秀蘭_頑皮_小頑皮\n",
      "7       6    403   6_中共_水準_水利_武漢\n",
      "8       7    388   7_糧食_中共_食物_飲食\n",
      "9       8    362   8_火箭_美國_蘇聯_發射\n",
      "10      9    336   9_汽車_車子_車站_車禍\n",
      "['\"', '日', '二月', '一年', '十五', '國民華中', ' ', '香港', '    ', '中華民國', '鈉級', '的', '鋼鹽安元號', '中共', '與', '寮', '局生', '國際化', '的', '寮戰', ',', '第一', '角色', '將', '不', '是', '蘇聯', '而是', '中共']\n",
      "\"日二月一年十五國民華中 香港    中華民國鈉級的鋼鹽安元號中共與寮局生國際化的寮戰,第一角色將不是蘇聯而是中共\n"
     ]
    },
    {
     "data": {
      "application/vnd.jupyter.widget-view+json": {
       "model_id": "45b925274eb344fca09e5276980a1497",
       "version_major": 2,
       "version_minor": 0
      },
      "text/plain": [
       "Batches:   0%|          | 0/1789 [00:00<?, ?it/s]"
      ]
     },
     "metadata": {},
     "output_type": "display_data"
    },
    {
     "name": "stderr",
     "output_type": "stream",
     "text": [
      "2022-10-26 15:28:10,278 - BERTopic - Transformed documents to Embeddings\n",
      "2022-10-26 15:28:37,141 - BERTopic - Reduced dimensionality\n",
      "2022-10-26 15:47:36,264 - BERTopic - Clustered reduced embeddings\n",
      "2022-10-26 15:47:49,388 - BERTopic - Reduced number of topics from 493 to 11\n"
     ]
    },
    {
     "name": "stdout",
     "output_type": "stream",
     "text": [
      "    Topic  Count              Name\n",
      "0      -1  49787    -1_美國_中共_中國_政府\n",
      "1       0   1037     0_糧食_中共_大陸_粮食\n",
      "2       1    962     1_火箭_美國_停火_蘇聯\n",
      "3       2    946  2_香港_中正路_位元堂_中山路\n",
      "4       3    820     3_風雨_作風_風流_風氣\n",
      "5       4    772    4_李世民_李淵_世民_太子\n",
      "6       5    645   5_陳氏_陳孝威_大陸_為甚麼\n",
      "7       6    616     6_東德_西德_德國_柏林\n",
      "8       7    565             7____\n",
      "9       8    543     8_人士_博士_名士_文化\n",
      "10      9    531    9_皇帝_李世民_父皇_太子\n",
      "['\"', '日', '二月', '一', '年', '一十五', '國', '民華', '中', '  版', '-', '第', '(', '二', '期', ' 星', ')', '一九六二年', '世局', '的', '展望', '歲入', '新年', ',', '和', '戰', '未定', '的', '世界', ' ', '高', '境界', '」', ',决', '不至於', '超癒', '此', '一', '範圍', '天文臺', '是否', '在', '今年', '可以', '進入', '一', '個', '比較', '光明', '的', '境界', '?', '還是', '一如', '普通', '的', '觀測', ',', '大戰', '將', '不可', '免', '?', '相信', '這', '是', '一', '個', '最', '爲', '大', ' ', '的', '「', '走勢', '」', '而言', ',', '爲', '了', '赫魯歇夫', '已', '家', '所', '關心', '的', '問題']\n",
      "\"日二月一年一十五國民華中  版-第(二期 星)一九六二年世局的展望歲入新年,和戰未定的世界 高境界」,决不至於超癒此一範圍天文臺是否在今年可以進入一個比較光明的境界?還是一如普通的觀測,大戰將不可免?相信這是一個最爲大 的「走勢」而言,爲了赫魯歇夫已家所關心的問題\n"
     ]
    },
    {
     "data": {
      "application/vnd.jupyter.widget-view+json": {
       "model_id": "ede42744d675424cbce684b9c0d38f52",
       "version_major": 2,
       "version_minor": 0
      },
      "text/plain": [
       "Batches:   0%|          | 0/1755 [00:00<?, ?it/s]"
      ]
     },
     "metadata": {},
     "output_type": "display_data"
    },
    {
     "name": "stderr",
     "output_type": "stream",
     "text": [
      "2022-10-26 16:12:52,623 - BERTopic - Transformed documents to Embeddings\n",
      "2022-10-26 16:13:21,907 - BERTopic - Reduced dimensionality\n",
      "2022-10-26 16:29:33,623 - BERTopic - Clustered reduced embeddings\n",
      "2022-10-26 16:29:46,393 - BERTopic - Reduced number of topics from 451 to 11\n"
     ]
    },
    {
     "name": "stdout",
     "output_type": "stream",
     "text": [
      "    Topic  Count              Name\n",
      "0      -1  41024    -1_美國_中共_中國_政府\n",
      "1       0   6978     0_軍事_將軍_國軍_美國\n",
      "2       1   1717     1_香港_仰光_越南_將軍\n",
      "3       2   1465     2_皇帝_皇后_楊廣_王義\n",
      "4       3   1165     3_公司_永號_公務_印成\n",
      "5       4    740    4_粮食_小良生_中共_兒童\n",
      "6       5    662     5_汽車_車站_中共_車輛\n",
      "7       6    649  6_梅花_天寶堂_龍虎鳳酒_花旦\n",
      "8       7    616     7_收縮_筋絡_軟弱_骨痛\n",
      "9       8    578     8_香港_政府_台灣_難民\n",
      "10      9    536             9____\n",
      "['\"', '中', '復', '切烈', '們', '中華民國', '五十二年', '元旦', ' 蒋', '中正面', '國', '愛國', '憑', '實證', '加', '海速', '同然', '因情', '是', '亂遇', '的', '印', ',', '打絞度', '一', '境', '四', '擊索', ' ', '始', '就', '是', '如此']\n",
      "\"中復切烈們中華民國五十二年元旦 蒋中正面國愛國憑實證加海速同然因情是亂遇的印,打絞度一境四擊索 始就是如此\n"
     ]
    },
    {
     "data": {
      "application/vnd.jupyter.widget-view+json": {
       "model_id": "22efb04506294475a570be34c3a0b8b8",
       "version_major": 2,
       "version_minor": 0
      },
      "text/plain": [
       "Batches:   0%|          | 0/1887 [00:00<?, ?it/s]"
      ]
     },
     "metadata": {},
     "output_type": "display_data"
    },
    {
     "name": "stderr",
     "output_type": "stream",
     "text": [
      "2022-10-26 16:54:25,630 - BERTopic - Transformed documents to Embeddings\n",
      "2022-10-26 16:54:58,805 - BERTopic - Reduced dimensionality\n",
      "2022-10-26 17:17:19,824 - BERTopic - Clustered reduced embeddings\n",
      "2022-10-26 17:17:32,787 - BERTopic - Reduced number of topics from 463 to 11\n"
     ]
    },
    {
     "name": "stdout",
     "output_type": "stream",
     "text": [
      "    Topic  Count            Name\n",
      "0      -1  46692  -1_美國_中共_中國_國家\n",
      "1       0   4375   0_軍事_將軍_美國_軍隊\n",
      "2       1   1592   1_女性_女人_男女_男人\n",
      "3       2   1455  2_公司_二十五_港份_電司\n",
      "4       3   1248  3_武松_武大_西門慶_武器\n",
      "5       4   1116  4_香港_養陰丸_陰虛_内傷\n",
      "6       5   1048  5_皇帝_青娥_夫人_趙匡胤\n",
      "7       6    748           6____\n",
      "8       7    743  7_上海_海外_上海人_四十\n",
      "9       8    714   8_粮食_食物_兒童_小兒\n",
      "10      9    627   9_前題_歌舞_高歌_歌聲\n",
      "['\"', '日', '二月', '一', '年', '三十五', '國', '民革', '中', '  ', '(', '四', '期', '星', ')', '版', '一第', '美國', '官方', '又', '有', '奇論', '忽然', '稍改', '態度', ',', '對', '美', '表示', '一定', '程度', '的', '「', '友好', '」', ',', '美國', '可能', '會', '更', '進一步', '的', '對', '中華民國', '加以', '壓抑']\n",
      "\"日二月一年三十五國民革中  (四期星)版一第美國官方又有奇論忽然稍改態度,對美表示一定程度的「友好」,美國可能會更進一步的對中華民國加以壓抑\n"
     ]
    },
    {
     "data": {
      "application/vnd.jupyter.widget-view+json": {
       "model_id": "153f0528ca1c4051b15a0e3b2afb6453",
       "version_major": 2,
       "version_minor": 0
      },
      "text/plain": [
       "Batches:   0%|          | 0/1962 [00:00<?, ?it/s]"
      ]
     },
     "metadata": {},
     "output_type": "display_data"
    },
    {
     "name": "stderr",
     "output_type": "stream",
     "text": [
      "2022-10-26 17:41:35,014 - BERTopic - Transformed documents to Embeddings\n",
      "2022-10-26 17:42:09,706 - BERTopic - Reduced dimensionality\n",
      "2022-10-26 18:10:54,155 - BERTopic - Clustered reduced embeddings\n",
      "2022-10-26 18:11:08,285 - BERTopic - Reduced number of topics from 511 to 11\n"
     ]
    },
    {
     "name": "stdout",
     "output_type": "stream",
     "text": [
      "    Topic  Count            Name\n",
      "0      -1  50117  -1_美國_中共_中國_國家\n",
      "1       0   6282   0_軍事_將軍_美國_日本\n",
      "2       1    902           1____\n",
      "3       2    870   2_感冒_前題_風咳_與乎\n",
      "4       3    795   3_女人_男女_男人_女性\n",
      "5       4    791   4_人士_博士_大學_爵士\n",
      "6       5    634   5_汽車_車輛_電車_火車\n",
      "7       6    634   6_公司_清邁_電話_中國\n",
      "8       7    613   7_雲英_裴航_石油_航哥\n",
      "9       8    585  8_養陰丸_陰虛_内傷_香港\n",
      "10      9    550   9_香港_香烟_彩票_淪陷\n",
      "['\"', '日', '二月', '一年', '四十五', '國', '民華中', '  ', '(', '六', '期', '星', ')', '版', '一第', '輩', ',', '身兼', '東南亞', '某', '國', '原子能', '委員會', '【', '歡迎', '楊振寧', '博士', ' ', '郭棟樑', '的', '委員', ',', '因', '公出', '該', '國', '至', '一隣邦', '的', '行往', '日本', '出席', '國際', '物理', '學會', ',', ' ', '無論', '從', '任何', '一', '個', '角度', '看來', ',', ' ', '總是', '在', '港華人', '有幸', '識荆', '的', '盛事']\n",
      "\"日二月一年四十五國民華中  (六期星)版一第輩,身兼東南亞某國原子能委員會【歡迎楊振寧博士 郭棟樑的委員,因公出該國至一隣邦的行往日本出席國際物理學會, 無論從任何一個角度看來, 總是在港華人有幸識荆的盛事\n"
     ]
    },
    {
     "data": {
      "application/vnd.jupyter.widget-view+json": {
       "model_id": "67d6aba672ed4b9f88b32c4d54831a5b",
       "version_major": 2,
       "version_minor": 0
      },
      "text/plain": [
       "Batches:   0%|          | 0/1015 [00:00<?, ?it/s]"
      ]
     },
     "metadata": {},
     "output_type": "display_data"
    },
    {
     "name": "stderr",
     "output_type": "stream",
     "text": [
      "2022-10-26 18:23:21,556 - BERTopic - Transformed documents to Embeddings\n",
      "2022-10-26 18:23:39,240 - BERTopic - Reduced dimensionality\n",
      "2022-10-26 18:27:57,311 - BERTopic - Clustered reduced embeddings\n",
      "2022-10-26 18:28:04,913 - BERTopic - Reduced number of topics from 349 to 11\n"
     ]
    },
    {
     "name": "stdout",
     "output_type": "stream",
     "text": [
      "    Topic  Count                Name\n",
      "0      -1  25680      -1_美國_中共_中國_國家\n",
      "1       0   3109       0_美國_軍事_將軍_中共\n",
      "2       1    665     1_肚腩_消化_氣痛_比比皆是\n",
      "3       2    543      2_公司_司馬我_司法_香港\n",
      "4       3    417       3_飲水_水準_水利_中共\n",
      "5       4    375      4_肥脂_行氣爲_微佐_宗旨\n",
      "6       5    339       5_變通_類推_解釋_工作\n",
      "7       6    339               6____\n",
      "8       7    333       7_戰火_火箭_火柴_美國\n",
      "9       8    328  8_香港_二百八十九_普濟藥行_大道\n",
      "10      9    322       9_南越_越南_美國_共黨\n",
      "['\"', '西子', '小', '袋', '湘鄉', '曾江', '和', '王飄', '老', '觚天', '大', '崮世', '日本', '或', '專輯', '天文', '真報', '創世', '年富比', '事祝', '高瞻森門', '壞風', ' -  -    ', '新', '目女', '\"', '報慶', '獻辭', '陳孝威', '再接再厲', ',', '日新又新', ';', '反攻', '第一', ',', '復國', '至上']\n",
      "\"西子小袋湘鄉曾江和王飄老觚天大崮世日本或專輯天文真報創世年富比事祝高瞻森門壞風 -  -    新目女\"報慶獻辭陳孝威再接再厲,日新又新;反攻第一,復國至上\n"
     ]
    },
    {
     "data": {
      "application/vnd.jupyter.widget-view+json": {
       "model_id": "52062c832d13410282dbda058819bd5e",
       "version_major": 2,
       "version_minor": 0
      },
      "text/plain": [
       "Batches:   0%|          | 0/1892 [00:00<?, ?it/s]"
      ]
     },
     "metadata": {},
     "output_type": "display_data"
    },
    {
     "name": "stderr",
     "output_type": "stream",
     "text": [
      "2022-10-26 18:52:19,746 - BERTopic - Transformed documents to Embeddings\n",
      "2022-10-26 18:52:55,753 - BERTopic - Reduced dimensionality\n",
      "2022-10-26 19:18:04,935 - BERTopic - Clustered reduced embeddings\n",
      "2022-10-26 19:18:19,307 - BERTopic - Reduced number of topics from 522 to 11\n"
     ]
    },
    {
     "name": "stdout",
     "output_type": "stream",
     "text": [
      "    Topic  Count             Name\n",
      "0      -1  51479   -1_美國_中共_中國_政府\n",
      "1       0   1372  0_越南_五十五_書報社_聯興\n",
      "2       1   1314    1_香港_港幣_郵費_報社\n",
      "3       2   1011   2_公司_司馬我_司法_香港\n",
      "4       3    876    3_政治_軍事_政府_軍人\n",
      "5       4    867    4_美金_遺墨_珍貴_黃金\n",
      "6       5    850    5_梅花_花園_黃花_前題\n",
      "7       6    841    6_糧食_消化_小兒_兒童\n",
      "8       7    705  7_汽車_公共汽車_電車_車輛\n",
      "9       8    616    8_美國_美軍_南越_越南\n",
      "10      9    587    9_水準_汽水_飲水_谷水\n",
      "['\"', '日', '二月', '一', '年', '六十五', '國', '民華', '中', '  ', '(', '一', '期', '星', ')', '版', '一第', '內地', '特本']\n",
      "\"日二月一年六十五國民華中  (一期星)版一第內地特本\n"
     ]
    },
    {
     "data": {
      "application/vnd.jupyter.widget-view+json": {
       "model_id": "49228cdbe3554692810b80f2d7e7bede",
       "version_major": 2,
       "version_minor": 0
      },
      "text/plain": [
       "Batches:   0%|          | 0/888 [00:00<?, ?it/s]"
      ]
     },
     "metadata": {},
     "output_type": "display_data"
    },
    {
     "name": "stderr",
     "output_type": "stream",
     "text": [
      "2022-10-26 19:30:35,531 - BERTopic - Transformed documents to Embeddings\n",
      "2022-10-26 19:30:48,479 - BERTopic - Reduced dimensionality\n",
      "2022-10-26 19:34:02,370 - BERTopic - Clustered reduced embeddings\n",
      "2022-10-26 19:34:08,919 - BERTopic - Reduced number of topics from 296 to 11\n"
     ]
    },
    {
     "name": "stdout",
     "output_type": "stream",
     "text": [
      "    Topic  Count             Name\n",
      "0      -1  20813   -1_美國_中共_國家_中國\n",
      "1       0   3070    0_軍事_軍隊_美國_中共\n",
      "2       1   1072   1_越南_香港_中正路_出版\n",
      "3       2    722   2_公司_港份_活里荷_印星\n",
      "4       3    684    3_香港_中共_政府_澳門\n",
      "5       4    369   4_美金_黃金_獎金_柯錫金\n",
      "6       5    366    5_精神_骨痛_頭痛_服妙\n",
      "7       6    352    6_糧食_消化_小兒_兒童\n",
      "8       7    322    7_水庫_谷水_水準_山水\n",
      "9       8    315    8_中國_國家_英國_我國\n",
      "10      9    314  9_越南_勇救_東南亞_杜爾斯\n",
      "['\"', '日', '二月', '一年', '七十五', '國民', '華中', '一  ', '(', '二', '期', '星', ')', '版', '一第', '民國內', '第〇〇一〇', '號', '民國', '僑務委', '迎接', '民國', '五十七年', '越', '燒', '越', '旺', '?', '印度', '星', '相', '家稱', ',', '今', '敦新', '字', '第一六一', '號', '年', '香港', '將', '更', '繁榮', ',', '火災', '次数', '將', '有', '增加']\n",
      "\"日二月一年七十五國民華中一  (二期星)版一第民國內第〇〇一〇號民國僑務委迎接民國五十七年越燒越旺?印度星相家稱,今敦新字第一六一號年香港將更繁榮,火災次数將有增加\n"
     ]
    },
    {
     "data": {
      "application/vnd.jupyter.widget-view+json": {
       "model_id": "fd129730d99b4accb269e0c5fb6b0e72",
       "version_major": 2,
       "version_minor": 0
      },
      "text/plain": [
       "Batches:   0%|          | 0/906 [00:00<?, ?it/s]"
      ]
     },
     "metadata": {},
     "output_type": "display_data"
    },
    {
     "name": "stderr",
     "output_type": "stream",
     "text": [
      "2022-10-26 19:45:37,551 - BERTopic - Transformed documents to Embeddings\n",
      "2022-10-26 19:45:49,751 - BERTopic - Reduced dimensionality\n",
      "2022-10-26 19:48:51,550 - BERTopic - Clustered reduced embeddings\n",
      "2022-10-26 19:48:58,156 - BERTopic - Reduced number of topics from 321 to 11\n"
     ]
    },
    {
     "name": "stdout",
     "output_type": "stream",
     "text": [
      "    Topic  Count             Name\n",
      "0      -1  24027   -1_美國_政府_中國_共黨\n",
      "1       0    754    0_軍事_將軍_美軍_軍隊\n",
      "2       1    746  1_香港_七十五_國民華_二第\n",
      "3       2    731    2_黃金_美元_港幣_美國\n",
      "4       3    677   3_越南_出版_書報社_聯興\n",
      "5       4    427   4_公司_書局_圖書_服務社\n",
      "6       5    377    5_博士_人士_學位_爵士\n",
      "7       6    374            6____\n",
      "8       7    317   7_水準_谷水_山水_水滸傳\n",
      "9       8    273    8_去年_新年_流年_代批\n",
      "10      9    267   9_越南_南越_東南亞_南韓\n",
      "['\"', '日', '二月', '一年', '八十五', '國民', '華中', '  ', '四', '期', '星版', '一樣', '+', '僑報', ' 第-', '〇', '號務', '委證', '台致', '新', '字', '第一六一', '號', '天文臺', '中國', '郵政台', '字', '第六二五', '號', '執照', '登記', '爲', '第一', '類', '新聞紙']\n",
      "\"日二月一年八十五國民華中  四期星版一樣+僑報 第-〇號務委證台致新字第一六一號天文臺中國郵政台字第六二五號執照登記爲第一類新聞紙\n"
     ]
    },
    {
     "data": {
      "application/vnd.jupyter.widget-view+json": {
       "model_id": "0236606762254909976c93fe8dd26a22",
       "version_major": 2,
       "version_minor": 0
      },
      "text/plain": [
       "Batches:   0%|          | 0/1741 [00:00<?, ?it/s]"
      ]
     },
     "metadata": {},
     "output_type": "display_data"
    },
    {
     "name": "stderr",
     "output_type": "stream",
     "text": [
      "2022-10-26 20:10:05,581 - BERTopic - Transformed documents to Embeddings\n",
      "2022-10-26 20:10:33,407 - BERTopic - Reduced dimensionality\n",
      "2022-10-26 20:32:15,168 - BERTopic - Clustered reduced embeddings\n",
      "2022-10-26 20:32:28,352 - BERTopic - Reduced number of topics from 519 to 11\n"
     ]
    },
    {
     "name": "stdout",
     "output_type": "stream",
     "text": [
      "    Topic  Count             Name\n",
      "0      -1  47481   -1_美國_中共_政府_國家\n",
      "1       0   1315    0_港幣_越南_事變_西安\n",
      "2       1   1051  1_公司_司馬我_八十五_二第\n",
      "3       2   1032    2_美國_南越_美軍_越南\n",
      "4       3    842    3_汽車_火車_日本_交通\n",
      "5       4    794    4_人士_博士_女士_美國\n",
      "6       5    725  5_郵費_七樓_禮頓道_六十號\n",
      "7       6    682    6_食物_食品_糧食_飲食\n",
      "8       7    612    7_觀光_光復_事業_光榮\n",
      "9       8    595    8_水準_水庫_淡水_石門\n",
      "10      9    560    9_軍事_政治_政府_軍人\n",
      "['\"', '日', '二月', '一年', '九十五', '國民', '華中', '  ', '(', '五湖星', ')', '版', '一第', '中華民國', '內政部', '内銷證', '内版', '僑', '台', '報字', '第〇〇一〇', '號', '中華民國', '僑務', ' ', '委員', ' 發祀證合敎', '新', '字', '第一六一', '號', '天文臺', '치', '中國', '性政', '白字', '第六十五', '號', '執照', '登記', '篇', '龟', '一般', '新聞', ' 融', '政府', '增訂', '考核', '方案', ' ', '我', '以', '郵票', '贈加', '濟貧', '中華民國', '郵政', '總局', '捐贈', '郵票', '三新禧', '千', '套', ',', '在', '加拿大', '蒙特婁', '博覽會', '義賣', '(', '本報', '記者', '黃强', '台北', '航訊', ')', '審', ' ', '審定', '轉投資', '事業', '總收入', '八十二計部', '審計長', '張導民', ',', '日前', '在', '立法院', ' 億九千餘萬', '元', ',', '支出', '十二億三千九', '報告', '時', '指出', ':', '由於', '公營', '事業', '發展', '迅', ' ', '百餘萬', '元', ',', '盈餘', '五千零六十餘萬', '元', '速,', '應', '行', '查核', '的', '事項', '愈來愈', '多', ',', '對', ' ', ',', '較', '行政院', '核定', '盈餘', '增加', '二百九十', '於', '審核', '的', '水準', '要求', ',', '也', '愈來愈', '高', ',', ' ', '餘萬', '元']\n",
      "\"日二月一年九十五國民華中  (五湖星)版一第中華民國內政部内銷證内版僑台報字第〇〇一〇號中華民國僑務 委員 發祀證合敎新字第一六一號天文臺치中國性政白字第六十五號執照登記篇龟一般新聞 融政府增訂考核方案 我以郵票贈加濟貧中華民國郵政總局捐贈郵票三新禧千套,在加拿大蒙特婁博覽會義賣(本報記者黃强台北航訊)審 審定轉投資事業總收入八十二計部審計長張導民,日前在立法院 億九千餘萬元,支出十二億三千九報告時指出:由於公營事業發展迅 百餘萬元,盈餘五千零六十餘萬元速,應行查核的事項愈來愈多,對 ,較行政院核定盈餘增加二百九十於審核的水準要求,也愈來愈高, 餘萬元\n"
     ]
    },
    {
     "data": {
      "application/vnd.jupyter.widget-view+json": {
       "model_id": "c809e88fb92746d0999df53ba92614a6",
       "version_major": 2,
       "version_minor": 0
      },
      "text/plain": [
       "Batches:   0%|          | 0/1848 [00:00<?, ?it/s]"
      ]
     },
     "metadata": {},
     "output_type": "display_data"
    },
    {
     "name": "stderr",
     "output_type": "stream",
     "text": [
      "2022-10-26 20:53:08,377 - BERTopic - Transformed documents to Embeddings\n",
      "2022-10-26 20:53:40,698 - BERTopic - Reduced dimensionality\n",
      "2022-10-26 21:20:00,520 - BERTopic - Clustered reduced embeddings\n",
      "2022-10-26 21:20:13,943 - BERTopic - Reduced number of topics from 519 to 11\n"
     ]
    },
    {
     "name": "stdout",
     "output_type": "stream",
     "text": [
      "    Topic  Count               Name\n",
      "0      -1  44025     -1_美國_政府_國家_日本\n",
      "1       0   4600     0_軍事_美國_美軍_柬埔寨\n",
      "2       1   1921      1_港幣_越南_事變_西安\n",
      "3       2   1896  2_公司_司法_印星_三二一五六七\n",
      "4       3   1865    3_香港_禮頓道_七樓_六十號\n",
      "5       4   1081              4____\n",
      "6       5    851      5_博士_人士_女士_碩士\n",
      "7       6    847      6_水準_水庫_山水_工程\n",
      "8       7    807      7_食品_食物_粮食_食用\n",
      "9       8    630      8_汽車_火車_車輛_交通\n",
      "10      9    604      9_花蓮_花卉_花錢_花朝\n",
      "['\"', '日', '二月', '一', '年', '十', '大', '國民', '擊中', '-  ', '六', '期', '星', ')', '版', '一第', '中華民國', '內政部', '內銷', ' 内版', '僑台', '報字', '第〇〇一〇', '號', '中華民國', '僑務', '委員會', '登記', '證', '台教', '新', '字', '第一六一', '號', '天文臺', '以', '篩', '其', '氣', ',', '橫逆', '不足', ' ', '方當', ',', '願公', '等', '謹', '之']\n",
      "\"日二月一年十大國民擊中-  六期星)版一第中華民國內政部內銷 内版僑台報字第〇〇一〇號中華民國僑務委員會登記證台教新字第一六一號天文臺以篩其氣,橫逆不足 方當,願公等謹之\n"
     ]
    },
    {
     "data": {
      "application/vnd.jupyter.widget-view+json": {
       "model_id": "9e3d969322a848a1ba12a9cf67f609f0",
       "version_major": 2,
       "version_minor": 0
      },
      "text/plain": [
       "Batches:   0%|          | 0/1922 [00:00<?, ?it/s]"
      ]
     },
     "metadata": {},
     "output_type": "display_data"
    },
    {
     "name": "stderr",
     "output_type": "stream",
     "text": [
      "2022-10-26 21:41:42,147 - BERTopic - Transformed documents to Embeddings\n",
      "2022-10-26 21:42:17,608 - BERTopic - Reduced dimensionality\n",
      "2022-10-26 22:14:45,248 - BERTopic - Clustered reduced embeddings\n",
      "2022-10-26 22:15:00,803 - BERTopic - Reduced number of topics from 585 to 11\n"
     ]
    },
    {
     "name": "stdout",
     "output_type": "stream",
     "text": [
      "    Topic  Count            Name\n",
      "0      -1  47635  -1_美國_政府_國家_世界\n",
      "1       0   4568   0_軍事_美國_將軍_美軍\n",
      "2       1   1965   1_港幣_越南_西安_事變\n",
      "3       2   1743   2_公司_文化_泰國_公刷\n",
      "4       3    975           3____\n",
      "5       4    907  4_痰傷_痰入_何濟公_痰喘\n",
      "6       5    789  5_金液_大還丹_體力_元陽\n",
      "7       6    779   6_博士_人士_自由_地位\n",
      "8       7    764  7_民國_五月_十五日_三月\n",
      "9       8    694   8_汽車_交通_火車_車輛\n",
      "10      9    677   9_海外_四海_海洋_大陸\n",
      "['\"', '日', '二月', '一', '年', '一十六', '國', '民華中', '  ', '(', '日期', '星', ')', '版', '一第', '民國', '內政部版', '中華民國', '僑務', '委員會', '登記', '證', '台教', '新', '字', '第一六一', '號', '天文臺', '當權派', '劉', '、', '鄧', '打下來', ' ', '治', '騙子', ',', '資產', '階級', '個', ' ', ',', '是', '與生俱來', '的', ',', '更', ' ', '帶來', '的', '豪華', '浪費', '乏', ' ', '旋', ',', '到', '了', '盡頭', ',', '必', '會', ' ', '價値', ',', '予以', '利用', ',', '等', ' ', '國内', '外', '的', '青年', '們', ',', '激', ',', '但', '扶', '得', '東來西', '又', '倒', ' ', '人', '野心家', '、', '陰謀家', '、', ' ', '因', '我們', '三民主義', '的', '慧', ' ', '臥薪嘗胆', '的', '戰時', '的', '氣招來', '大禍', ',', '毛共', '之', '核 ', '到', '利用', '價值', '完', '了', ',', '就', ' ', '于愛國', '熱情', ',', '展開', '青賴爲', '整', '黨', '工具', '的', '軍', ' ', '私通', '外國', '分子', ',', '被', '排燈', ',', '在', '人性', '迷失', '中', '照', ' ', '氛']\n",
      "\"日二月一年一十六國民華中  (日期星)版一第民國內政部版中華民國僑務委員會登記證台教新字第一六一號天文臺當權派劉、鄧打下來 治騙子,資產階級個 ,是與生俱來的,更 帶來的豪華浪費乏 旋,到了盡頭,必會 價値,予以利用,等 國内外的青年們,激,但扶得東來西又倒 人野心家、陰謀家、 因我們三民主義的慧 臥薪嘗胆的戰時的氣招來大禍,毛共之核 到利用價值完了,就 于愛國熱情,展開青賴爲整黨工具的軍 私通外國分子,被排燈,在人性迷失中照 氛\n"
     ]
    },
    {
     "data": {
      "application/vnd.jupyter.widget-view+json": {
       "model_id": "5ad520e62a854a68b721153827d8cdd3",
       "version_major": 2,
       "version_minor": 0
      },
      "text/plain": [
       "Batches:   0%|          | 0/2001 [00:00<?, ?it/s]"
      ]
     },
     "metadata": {},
     "output_type": "display_data"
    },
    {
     "name": "stderr",
     "output_type": "stream",
     "text": [
      "2022-10-26 22:38:14,861 - BERTopic - Transformed documents to Embeddings\n",
      "2022-10-26 22:38:51,141 - BERTopic - Reduced dimensionality\n",
      "2022-10-26 23:15:02,451 - BERTopic - Clustered reduced embeddings\n",
      "2022-10-26 23:15:20,008 - BERTopic - Reduced number of topics from 563 to 11\n"
     ]
    },
    {
     "name": "stdout",
     "output_type": "stream",
     "text": [
      "    Topic  Count            Name\n",
      "0      -1  48765  -1_美國_日本_政府_國家\n",
      "1       0   5787   0_軍事_美國_越南_北越\n",
      "2       1   3070   1_越南_西安_事變_地址\n",
      "3       2   1012  2_鬥倒_失蹤_云云_雁歸區\n",
      "4       3    993   3_公司_航空_司法_電視\n",
      "5       4    930           4____\n",
      "6       5    737   5_水準_淡水_生活_水牛\n",
      "7       6    691   6_民國_四月_五月_三月\n",
      "8       7    686   7_美元_人口_一千_五千\n",
      "9       8    679   8_香港_香檳_香料_喘氣\n",
      "10      9    670   9_美國_中共_國家_世界\n",
      "['\"', '日', '四月', '一年', '二十六', '國', '民華中', '  ', '(', '四', '期', '星', ')', '版', '一第', '中華民國', '內政部', '內銷證内版', '僑', '台報字', '第〇〇一〇', '號', '中華民國', '僑務', '委員會', '登記證', '台教', ' 新', '字', '第一六一', '號', '天文臺', '中國', '郵政', '台', '字', '第六二五', '號', '執照', '登記', '爲', '第一', '類', '新聞紙', '中華民國', '開國', '六十二', '崑崙', '紀念', '展望', '世局', '中華民國', '建立', '迄', '今', ',', '已', '是', '進入', '六十二', '年', '的', '歷程', '矣']\n",
      "\"日四月一年二十六國民華中  (四期星)版一第中華民國內政部內銷證内版僑台報字第〇〇一〇號中華民國僑務委員會登記證台教 新字第一六一號天文臺中國郵政台字第六二五號執照登記爲第一類新聞紙中華民國開國六十二崑崙紀念展望世局中華民國建立迄今,已是進入六十二年的歷程矣\n"
     ]
    },
    {
     "data": {
      "application/vnd.jupyter.widget-view+json": {
       "model_id": "cff53440abf6458eb0612e2bd4365914",
       "version_major": 2,
       "version_minor": 0
      },
      "text/plain": [
       "Batches:   0%|          | 0/137 [00:00<?, ?it/s]"
      ]
     },
     "metadata": {},
     "output_type": "display_data"
    },
    {
     "name": "stderr",
     "output_type": "stream",
     "text": [
      "2022-10-26 23:17:39,122 - BERTopic - Transformed documents to Embeddings\n",
      "2022-10-26 23:17:44,026 - BERTopic - Reduced dimensionality\n",
      "2022-10-26 23:17:45,665 - BERTopic - Clustered reduced embeddings\n",
      "2022-10-26 23:17:47,342 - BERTopic - Reduced number of topics from 99 to 11\n"
     ]
    },
    {
     "name": "stdout",
     "output_type": "stream",
     "text": [
      "    Topic  Count            Name\n",
      "0      -1   3021  -1_日本_政府_美國_世界\n",
      "1       0    528   0_軍事_北越_德軍_美國\n",
      "2       1    141   1_越南_香港_西安_事變\n",
      "3       2    109   2_停火_火星_日主_北越\n",
      "4       3    106   3_精神_道家_生活_心臟\n",
      "5       4     98   4_公司_地址_書局_泰國\n",
      "6       5     82   5_食品_服用_粮食_食物\n",
      "7       6     73  6_美金_昌武市_三號_九幣\n",
      "8       7     72   7_外國_國家_中國_國際\n",
      "9       8     66   8_第一_英文_延譽_增添\n",
      "10      9     64  9_摸彩_俄共_重視_企業化\n",
      "['\"', '日', '二月', '三年', '二十七', '國', '民華中贈', '  ', '三', '期', '星版', '一第', '.', '.', '.', '.', '.', '.', '.', '.', '敬請', '介紹', '香港', '天文台', '報社', '啓言鼓', '中華民國', '行政院', '新聞局', '出版', '事業', '登記證局', '儒台', '報字', '第○○八', '號', '中華民國', '健務', '委員會', '登記', '證', '台教', '新', '字', '第六一二', '號', '奪', '了', '權', '、', '做', '了', ',', '一', '撮', '沒有', '理想', '的', '野心', '份子', '堂', '了', '權', ',', '成就', '了', '他們', '的', '新', '階級', '、', '所', '專制', '新', '的', '既得利益', '、', '新', '的', '爲', '非', '肆虐', ',', '日子', '會', '更', '難過', ',', '而', '新', '的', '黨', '外', ',', '又', '在', '要', '推倒霸', '的', '「', '黨', '內', '」', '了', '!', '天文章', '爲', '了', '加強', '這', '一', '點', '說明', ',', '我們', '又', '在', '元月', '十八', ',', '評估', '了', '黨', '外', '的', '「', '炒蛋', '史觀', '」']\n",
      "\"日二月三年二十七國民華中贈  三期星版一第........敬請介紹香港天文台報社啓言鼓中華民國行政院新聞局出版事業登記證局儒台報字第○○八號中華民國健務委員會登記證台教新字第六一二號奪了權、做了,一撮沒有理想的野心份子堂了權,成就了他們的新階級、所專制新的既得利益、新的爲非肆虐,日子會更難過,而新的黨外,又在要推倒霸的「黨內」了!天文章爲了加強這一點說明,我們又在元月十八,評估了黨外的「炒蛋史觀」\n"
     ]
    },
    {
     "data": {
      "application/vnd.jupyter.widget-view+json": {
       "model_id": "5577a7e9d39d46b6bdec700f7de1cf75",
       "version_major": 2,
       "version_minor": 0
      },
      "text/plain": [
       "Batches:   0%|          | 0/866 [00:00<?, ?it/s]"
      ]
     },
     "metadata": {},
     "output_type": "display_data"
    },
    {
     "name": "stderr",
     "output_type": "stream",
     "text": [
      "2022-10-26 23:27:54,380 - BERTopic - Transformed documents to Embeddings\n",
      "2022-10-26 23:28:07,542 - BERTopic - Reduced dimensionality\n",
      "2022-10-26 23:30:11,732 - BERTopic - Clustered reduced embeddings\n",
      "2022-10-26 23:30:18,085 - BERTopic - Reduced number of topics from 283 to 11\n"
     ]
    },
    {
     "name": "stdout",
     "output_type": "stream",
     "text": [
      "    Topic  Count              Name\n",
      "0      -1  21983    -1_中共_美國_中國_政治\n",
      "1       0   1290     0_軍事_軍隊_美國_中共\n",
      "2       1    797    1_香港_中共_英國_香港人\n",
      "3       2    602             2____\n",
      "4       3    515     3_女人_男人_子女_男女\n",
      "5       4    496   4_伍聯_號碼_中華民國_獎券\n",
      "6       5    448    5_水平_水準_自來水_生活\n",
      "7       6    413     6_心理_人心_信心_中心\n",
      "8       7    398     7_社會_法律_責任_經濟\n",
      "9       8    389  8_楊志雲_李梅_朱三爺_王二倌\n",
      "10      9    361     9_風氣_作風_社會_風俗\n",
      "['\"', '幸衣店', '中华', '民事', '行政院', '新局', '出版', '察登', '記證局', '台報字', '第○○八', '號', '中環', '民泰风窗', '登祀', '台社', '新', '字', '第六一二', '般', '天文臺', '荷本報', '全體', '同仁', '敬賀', '中野', '攻', '北台字', '第六六三', '號', '執棄記', '第二', '類', '新', '開抵', '中華民國', '二十五年', '十一月', '八日', '陳孝威', '先生', '在', '香港', '創刊報', '對', '中國', '前途', '的', '關注', '再', '革新', '、', '再', '傳聞', '這', '小小', '的', '一', '張', '報', ' ', '是', '一', '群', '新聞', '工作', '人員', ' ', '十分', '艱苦', '的', '熬過', ',', '與', '討論', ',', '對', '第三世界', ' ', '紙', ',', '我們', '投入', '許多', '作', ' ', '與', '文人', ',', '我們', '對', '報紙', ' ', '我們', '越', '挫', '越', '勇', ',', '讀者', '的', '同情', '、', '支持', ',', '對', '西 ', '者', '、', '編輯', '、', '工作', '人員', ' ', '也', '要', '加以', '「', '利用', ' ', '」', '的', '信件', '、', '電話', '是', '我們', '方', '的', '批判', '、', '對', '帝國', '主 ', '的', '心血', ';', '目的', '不', '求名', ' ', '但', '這', '不同於', '上述', '幾', '類', '的', '滋養劑', ',', '對', '中國', '的', '義', '的', '抨擊', ',', '皆', '使', '這些', ' 利', ',', '只', '求', '站', '在', '新聞', '從', '人']\n",
      "\"幸衣店中华民事行政院新局出版察登記證局台報字第○○八號中環民泰风窗登祀台社新字第六一二般天文臺荷本報全體同仁敬賀中野攻北台字第六六三號執棄記第二類新開抵中華民國二十五年十一月八日陳孝威先生在香港創刊報對中國前途的關注再革新、再傳聞這小小的一張報 是一群新聞工作人員 十分艱苦的熬過,與討論,對第三世界 紙,我們投入許多作 與文人,我們對報紙 我們越挫越勇,讀者的同情、支持,對西 者、編輯、工作人員 也要加以「利用 」的信件、電話是我們方的批判、對帝國主 的心血;目的不求名 但這不同於上述幾類的滋養劑,對中國的義的抨擊,皆使這些 利,只求站在新聞從人\n"
     ]
    },
    {
     "data": {
      "application/vnd.jupyter.widget-view+json": {
       "model_id": "711cf773d1534cc08ecefd7bede6dfea",
       "version_major": 2,
       "version_minor": 0
      },
      "text/plain": [
       "Batches:   0%|          | 0/905 [00:00<?, ?it/s]"
      ]
     },
     "metadata": {},
     "output_type": "display_data"
    },
    {
     "name": "stderr",
     "output_type": "stream",
     "text": [
      "2022-10-26 23:43:53,600 - BERTopic - Transformed documents to Embeddings\n",
      "2022-10-26 23:44:09,270 - BERTopic - Reduced dimensionality\n",
      "2022-10-26 23:46:22,388 - BERTopic - Clustered reduced embeddings\n",
      "2022-10-26 23:46:28,939 - BERTopic - Reduced number of topics from 265 to 11\n"
     ]
    },
    {
     "name": "stdout",
     "output_type": "stream",
     "text": [
      "    Topic  Count              Name\n",
      "0      -1  22330    -1_美國_政府_中共_社會\n",
      "1       0   2096     0_軍事_美國_武器_蘇俄\n",
      "2       1    776    1_香港_中共_英國_香港人\n",
      "3       2    740    2_公司_司法_司馬遷_美國\n",
      "4       3    538             3____\n",
      "5       4    514     4_汽車_公車_交通_票價\n",
      "6       5    470     5_風氣_作風_中共_風流\n",
      "7       6    469     6_水準_江南_水雷_長江\n",
      "8       7    354     7_金融_資金_金錢_經濟\n",
      "9       8    334  8_六號_三十七_中華民國_公限\n",
      "10      9    312    9_美元_定價_四十五_二百\n",
      "['\"-   日', '二月', '一年', '四十七', '國', '民華', '中中華民國', '行政院', '新聞局', '出', ' 業', '登記證局', '僑', '台', '報字', '第○○八', '號', '顧守', '之', '澄清', '洩題', '謠傳', '中華民國', '僑務', '委員會', '登記證', '台教', '新', '字', '第六一二', '號', '主持', '國家', ' 題', '』', '證據']\n",
      "\"-   日二月一年四十七國民華中中華民國行政院新聞局出 業登記證局僑台報字第○○八號顧守之澄清洩題謠傳中華民國僑務委員會登記證台教新字第六一二號主持國家 題』證據\n"
     ]
    },
    {
     "data": {
      "application/vnd.jupyter.widget-view+json": {
       "model_id": "35f9843fdc5043b988c5febfa213c5db",
       "version_major": 2,
       "version_minor": 0
      },
      "text/plain": [
       "Batches:   0%|          | 0/168 [00:00<?, ?it/s]"
      ]
     },
     "metadata": {},
     "output_type": "display_data"
    },
    {
     "name": "stderr",
     "output_type": "stream",
     "text": [
      "2022-10-26 23:49:11,741 - BERTopic - Transformed documents to Embeddings\n",
      "2022-10-26 23:49:17,885 - BERTopic - Reduced dimensionality\n",
      "2022-10-26 23:49:20,007 - BERTopic - Clustered reduced embeddings\n",
      "2022-10-26 23:49:21,661 - BERTopic - Reduced number of topics from 96 to 11\n"
     ]
    },
    {
     "name": "stdout",
     "output_type": "stream",
     "text": [
      "    Topic  Count              Name\n",
      "0      -1   3764    -1_政府_中共_中國_台灣\n",
      "1       0    413     0_香港_中共_前途_港人\n",
      "2       1    350     1_美國_軍隊_軍人_軍事\n",
      "3       2    141     2_社會_風氣_政府_色情\n",
      "4       3    138  3_中華民國_四十七_六號_民華\n",
      "5       4    124     4_漢武_皇帝_皇后_霍光\n",
      "6       5     93     5_招標_公告_報紙_公開\n",
      "7       6     88    6_公司_財政司_辭職_評估\n",
      "8       7     87     7_美國_談判_核武_武器\n",
      "9       8     85     8_國家_國際_我國_國中\n",
      "10      9     81             9____\n"
     ]
    }
   ],
   "source": [
    "import re\n",
    "from ckiptagger import data_utils, construct_dictionary, WS, POS, NER\n",
    "from bertopic import BERTopic\n",
    "from transformers import AutoTokenizer, AutoModelForSeq2SeqLM\n",
    "\n",
    "# get the tradition Chinese model\n",
    "tokenizer = AutoTokenizer.from_pretrained(\"elliotthwang/t5-small-finetuned-xlsum-chinese-tradition\")\n",
    "model = AutoModelForSeq2SeqLM.from_pretrained(\"elliotthwang/t5-small-finetuned-xlsum-chinese-tradition\")\n",
    "\n",
    "# get all the file\n",
    "import os\n",
    "years = []\n",
    "for path, dir_list, file_list in os.walk(r\"C:\\Users\\TaoXU\\Desktop\\Lib_DA\\year_txt\"):\n",
    "    for file in file_list:\n",
    "        year = file\n",
    "        years.append(year)\n",
    "\n",
    "base_path = \"C:\\\\Users\\\\TaoXU\\\\Desktop\\\\Lib_DA\\\\year_txt\\\\\"\n",
    "for i in years:\n",
    "    file_path = base_path +i \n",
    "    sentences = \"\"\n",
    "    with open(file_path, encoding=\"utf-8\") as f:\n",
    "        for line in f.readlines():\n",
    "            line = re.sub('\\n', '', line)  # 去掉列表中每一个元素的换行符\n",
    "            line = re.sub('[a-zA-Z0-9]', '', line)  # 去掉数字，字母\n",
    "            sentences += line\n",
    "\n",
    "    sentence_list = re.split(r'[。]', sentences) #根据句号分割句子，获得句子的list\n",
    "    # print(sentence_list)\n",
    "\n",
    "\n",
    "    # data_utils.download_data_gdown(\"./\") # gdrive-ckip # 下载模型\n",
    "    # 使用 GPU：\n",
    "    #    1. 安裝 tensorflow-gpu (請見安裝說明)\n",
    "    #    2. 設定 CUDA_VISIBLE_DEVICES 環境變數，例如：os.environ[\"CUDA_VISIBLE_DEVICES\"] = \"0\"\n",
    "    #    3. 設定 disable_cuda=False，例如：ws = WS(\"./data\", disable_cuda=False)\n",
    "    # 使用 CPU：\n",
    "    ws = WS(\"./data\")\n",
    "    pos = POS(\"./data\")\n",
    "    ner = NER(\"./data\")\n",
    "\n",
    "    word_sentence_list = ws(  # 对句子进行分词\n",
    "        sentence_list,\n",
    "        # sentence_segmentation = True, # To consider delimiters\n",
    "        # segment_delimiter_set = {\",\", \"。\", \":\", \"?\", \"!\", \";\"}), # This is the defualt set of delimiters\n",
    "        # recommend_dictionary = dictionary1, # words in this dictionary are encouraged\n",
    "        # coerce_dictionary = dictionary2, # words in this dictionary are forced\n",
    "    )\n",
    "    # print(word_sentence_list)\n",
    "\n",
    "    print(word_sentence_list[0])\n",
    "    print(sentence_list[0])\n",
    "\n",
    "    stop_words = []\n",
    "    with open(\"./stop_words.txt\",encoding='utf-8') as f:\n",
    "        stop_words = f.readlines()\n",
    "        stop_words = [stop_word.rstrip() for stop_word in stop_words]\n",
    "\n",
    "    sentences = []\n",
    "    for sentence in word_sentence_list:\n",
    "        words = []\n",
    "        for word in sentence:\n",
    "            if word not in stop_words or not word:\n",
    "                words.append(word)\n",
    "        sentences.append(' '.join(words))\n",
    "    sentences\n",
    "\n",
    "    topic_model = BERTopic(embedding_model=model, language=\"multilingual\", calculate_probabilities=True, verbose=True, nr_topics=10)\n",
    "    topics, probs = topic_model.fit_transform(sentences)\n",
    "\n",
    "    print(topic_model.get_topic_info())\n",
    "\n",
    "    topic_model.get_topic(0)\n",
    "\n",
    "    fig = topic_model.visualize_barchart()\n",
    "    fig.write_html(base_path+i[0:4]+\"_barchart.html\")\n",
    "\n",
    "    hm = topic_model.visualize_heatmap()\n",
    "    hm.write_html(base_path+i[0:4]+\"_heatmap.html\")"
   ]
  },
  {
   "cell_type": "code",
   "execution_count": 26,
   "id": "c625b317-831f-4944-9708-06f258b023dd",
   "metadata": {},
   "outputs": [],
   "source": [
    "fig.write_html(base_path+year[0:4]+\"_barchart.html\")"
   ]
  },
  {
   "cell_type": "code",
   "execution_count": 28,
   "id": "ccd9d2d7-3a03-4276-9ef6-e57270f30ac3",
   "metadata": {},
   "outputs": [],
   "source": [
    "hm.write_html(base_path+year[0:4]+\"_heatmap.html\")"
   ]
  },
  {
   "cell_type": "code",
   "execution_count": null,
   "id": "7868daf9-b1ad-43b0-9d78-02ff7ef6d78f",
   "metadata": {},
   "outputs": [],
   "source": []
  }
 ],
 "metadata": {
  "kernelspec": {
   "display_name": "Python 3 (ipykernel)",
   "language": "python",
   "name": "python3"
  },
  "language_info": {
   "codemirror_mode": {
    "name": "ipython",
    "version": 3
   },
   "file_extension": ".py",
   "mimetype": "text/x-python",
   "name": "python",
   "nbconvert_exporter": "python",
   "pygments_lexer": "ipython3",
   "version": "3.9.13"
  }
 },
 "nbformat": 4,
 "nbformat_minor": 5
}
